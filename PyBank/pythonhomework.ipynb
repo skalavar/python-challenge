{
 "cells": [
  {
   "cell_type": "code",
   "execution_count": 3,
   "metadata": {},
   "outputs": [],
   "source": [
    "# import the os module\n",
    "import os\n",
    "\n",
    "# Module for reading CSV files\n",
    "import csv\n",
    "\n",
    "#CSV file location\n",
    "csvpath = os.path.join('Resources', 'budget_data.csv')\n",
    "\n"
   ]
  },
  {
   "cell_type": "code",
   "execution_count": 4,
   "metadata": {},
   "outputs": [],
   "source": [
    "\n",
    "#Open CSV file with no header\n",
    "with open(csvpath, newline=\"\") as csvfile:\n",
    "    csvreader = csv.reader(csvfile, delimiter=\",\")\n",
    "    \n",
    "    #csv_header = (csvfile)\n",
    "    #csv_header = next(csvreader)\n",
    "    csv_header = next(csvfile)\n",
    "    #print(f\"Header: {csv_header}\")\n"
   ]
  },
  {
   "cell_type": "code",
   "execution_count": 8,
   "metadata": {},
   "outputs": [
    {
     "name": "stdout",
     "output_type": "stream",
     "text": [
      "Financial Analysis\n",
      "..................\n",
      "Total Months: 86\n",
      "Total: $38382578\n",
      "Average change: $-2315.1176470588234\n",
      "Greatest Increase in Profits: Feb-2012 $1926159\n",
      "Greatest Decrease in Profits: Sep-2013 $-2196167\n"
     ]
    }
   ],
   "source": [
    "# import the os module\n",
    "import os\n",
    "\n",
    "# Module for reading CSV files\n",
    "import csv\n",
    "\n",
    "#CSV file location\n",
    "csvpath = os.path.join('Resources', 'budget_data.csv')\n",
    "\n",
    "\n",
    "\n",
    "#Open CSV file with no header\n",
    "with open(csvpath, newline=\"\") as csvfile:\n",
    "    csvreader = csv.reader(csvfile, delimiter=\",\")\n",
    "    \n",
    "    #csv_header = (csvfile)\n",
    "    #csv_header = next(csvreader)\n",
    "    csv_header = next(csvfile)\n",
    "    #print(f\"Header: {csv_header}\")\n",
    "    \n",
    "    # find net amount of profit and loss\n",
    "    total_amount = []\n",
    "    months = []\n",
    "\n",
    "    #Read though each row of data after header\n",
    "    for rows in csvreader:\n",
    "        total_amount.append(int(rows[1]))\n",
    "        months.append(rows[0]) \n",
    "\n",
    "    # find revenue change\n",
    "    revenue_change = []\n",
    "\n",
    "    for x in range(1, len(total_amount)):\n",
    "        revenue_change.append((int(total_amount[x]) - int(total_amount[x-1])))\n",
    "    \n",
    "    # calculate average revenue change\n",
    "    revenue_average = sum(revenue_change) / len(revenue_change)\n",
    "    \n",
    "    # calculate total length of months\n",
    "    total_months = len(months)\n",
    "\n",
    "    # greatest increase in revenue\n",
    "    greatest_increase = max(revenue_change)\n",
    "    # greatest decrease in revenue\n",
    "    greatest_decrease = min(revenue_change)\n",
    "\n",
    "\n",
    "    # print the Results\n",
    "    print(\"Financial Analysis\")\n",
    "\n",
    "    print(\"..................\")\n",
    "\n",
    "    print(\"Total Months: \" + str(total_months))\n",
    "\n",
    "    print(\"Total: \" + \"$\" + str(sum(total_amount)))\n",
    "\n",
    "    print(\"Average change: \" + \"$\" + str(revenue_average))\n",
    "\n",
    "    print(\"Greatest Increase in Profits: \" + str(months[revenue_change.index(max(revenue_change))+1]) + \" \" + \"$\" + str(greatest_increase))\n",
    "\n",
    "    print(\"Greatest Decrease in Profits: \" + str(months[revenue_change.index(min(revenue_change))+1]) + \" \" + \"$\" + str(greatest_decrease))\n",
    "\n",
    "\n",
    "    # output to a text file\n",
    "\n",
    "    file = open(\"output.txt\",\"w\")\n",
    "\n",
    "    file.write(\"Financial Analysis\" + \"\\n\")\n",
    "\n",
    "    file.write(\"..................\" + \"\\n\")\n",
    "\n",
    "    file.write(\"Total Months: \" + str(total_months) + \"\\n\")\n",
    "\n",
    "    file.write(\"Total: \" + \"$\" + str(sum(total_amount)) + \"\\n\")\n",
    "\n",
    "    file.write(\"Average Change: \" + \"$\" + str(revenue_average) + \"\\n\")\n",
    "\n",
    "    file.write(\"Greatest Increase in Profits: \" + str(months[revenue_change.index(max(revenue_change))+1]) + \" \" + \"$\" + str(greatest_increase) + \"\\n\")\n",
    "\n",
    "    file.write(\"Greatest Decrease in Profits: \" + str(months[revenue_change.index(min(revenue_change))+1]) + \" \" + \"$\" + str(greatest_decrease) + \"\\n\")\n",
    "\n",
    "    file.close()"
   ]
  },
  {
   "cell_type": "code",
   "execution_count": null,
   "metadata": {},
   "outputs": [],
   "source": []
  },
  {
   "cell_type": "code",
   "execution_count": null,
   "metadata": {},
   "outputs": [],
   "source": []
  },
  {
   "cell_type": "code",
   "execution_count": null,
   "metadata": {},
   "outputs": [],
   "source": []
  },
  {
   "cell_type": "code",
   "execution_count": null,
   "metadata": {},
   "outputs": [],
   "source": [
    "\n"
   ]
  },
  {
   "cell_type": "code",
   "execution_count": null,
   "metadata": {},
   "outputs": [],
   "source": []
  },
  {
   "cell_type": "code",
   "execution_count": null,
   "metadata": {},
   "outputs": [],
   "source": []
  },
  {
   "cell_type": "code",
   "execution_count": null,
   "metadata": {},
   "outputs": [],
   "source": []
  },
  {
   "cell_type": "code",
   "execution_count": null,
   "metadata": {},
   "outputs": [],
   "source": [
    "\n"
   ]
  },
  {
   "cell_type": "code",
   "execution_count": null,
   "metadata": {},
   "outputs": [],
   "source": []
  }
 ],
 "metadata": {
  "kernelspec": {
   "display_name": "Python 3",
   "language": "python",
   "name": "python3"
  },
  "language_info": {
   "codemirror_mode": {
    "name": "ipython",
    "version": 3
   },
   "file_extension": ".py",
   "mimetype": "text/x-python",
   "name": "python",
   "nbconvert_exporter": "python",
   "pygments_lexer": "ipython3",
   "version": "3.7.3"
  }
 },
 "nbformat": 4,
 "nbformat_minor": 2
}
